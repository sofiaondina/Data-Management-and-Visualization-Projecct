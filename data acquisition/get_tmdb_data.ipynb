{
 "cells": [
  {
   "cell_type": "code",
   "execution_count": 3,
   "metadata": {},
   "outputs": [],
   "source": [
    "#pip install tmdbsimple\n",
    "import tmdbsimple as tmdb\n",
    "import pandas as pd\n",
    "from bs4 import BeautifulSoup\n",
    "import requests\n",
    "import re\n",
    "import pickle\n",
    "\n",
    "tmdb.API_KEY = 'ecb4864639691c0b1573d1cdaf39a336'\n",
    "path_data = 'C:/root/Universita/project_dmdv/data/'"
   ]
  },
  {
   "cell_type": "markdown",
   "metadata": {},
   "source": [
    "### Movies"
   ]
  },
  {
   "cell_type": "code",
   "execution_count": 32,
   "metadata": {},
   "outputs": [
    {
     "data": {
      "text/plain": [
       "481127"
      ]
     },
     "execution_count": 32,
     "metadata": {},
     "output_type": "execute_result"
    }
   ],
   "source": [
    "#elenco id dell'estrazione giornaliera\n",
    "movies_ids = list(pd.read_json(path_data + 'tmdb/daily_file/movie_ids_daily.json',\n",
    "                               lines = True, encoding = 'UTF-8')['id'])\n",
    "len(movies_ids)"
   ]
  },
  {
   "cell_type": "code",
   "execution_count": 34,
   "metadata": {},
   "outputs": [],
   "source": [
    "#inizializzazione liste di dataframe\n",
    "movies = []\n",
    "cast_movies = []\n",
    "crew_movies = []\n",
    "j = 1\n",
    "for id_ in movies_ids:\n",
    "    try:\n",
    "        #creazione id\n",
    "        my_id = 'm-' + str(j)\n",
    "        j += 1\n",
    "        #interrogazione dell'api\n",
    "        query = tmdb.Movies(id_)\n",
    "        current_row = pd.DataFrame([query.info()])\n",
    "        current_row['movie_id'] = my_id\n",
    "        #concateno alla lista di dataframe\n",
    "        movies = movies + [current_row]\n",
    "        \n",
    "        #controllo se c'e la lista di persone del cast, se c'e concateno alla lista di dataframe\n",
    "        credits = query.credits()\n",
    "        cast = credits['cast']\n",
    "        if len(cast) > 0:\n",
    "            cast = pd.DataFrame(cast)\n",
    "            cast['tmdb_movie_id'] = id_\n",
    "            cast['movie_id'] = my_id\n",
    "            cast_movies = cast_movies + [cast]\n",
    "        \n",
    "        #controllo se c'e la lista di persone della crew, se c'e concateno alla lista di dataframe\n",
    "        crew = credits['crew']\n",
    "        if len(crew) > 0:\n",
    "            crew = pd.DataFrame(crew)\n",
    "            crew['tmdb_movie_id'] = id_\n",
    "            crew['movie_id'] = my_id\n",
    "            crew_movies = crew_movies + [crew]\n",
    "            \n",
    "    except:\n",
    "        #se va in errore stampo l'id del film\n",
    "        print(id_)\n",
    "\n",
    "#concateno i dataframe e scrivo il file json\n",
    "pd.concat(movies).reset_index().to_json(path_data + 'tmdb/json/tmdb_movies.json')\n",
    "pd.concat(cast_movies).reset_index().to_json(path_data + 'tmdb/json/tmdb_movies_cast.json')\n",
    "pd.concat(crew_movies).reset_index().to_json(path_data + 'tmdb/json/tmdb_movies_crew.json')"
   ]
  },
  {
   "cell_type": "markdown",
   "metadata": {},
   "source": [
    "### TV Series"
   ]
  },
  {
   "cell_type": "code",
   "execution_count": 4,
   "metadata": {},
   "outputs": [
    {
     "data": {
      "text/plain": [
       "95877"
      ]
     },
     "execution_count": 4,
     "metadata": {},
     "output_type": "execute_result"
    }
   ],
   "source": [
    "len(tv_series_ids)"
   ]
  },
  {
   "cell_type": "code",
   "execution_count": 3,
   "metadata": {},
   "outputs": [],
   "source": [
    "tv_series_ids = list(pd.read_json(path_data + 'tmdb/daily_file/tv_series_ids_daily.json',\n",
    "                                 lines = True, encoding = 'UTF-8')['id'])"
   ]
  },
  {
   "cell_type": "code",
   "execution_count": 31,
   "metadata": {},
   "outputs": [],
   "source": [
    "#inizializzazione liste di dataframe\n",
    "tvs = []\n",
    "cast_tvs = []\n",
    "crew_tvs = []\n",
    "seasons_tvs = []\n",
    "j = 1\n",
    "for id_ in tv_series_ids:\n",
    "    \n",
    "    #creazione dell'id\n",
    "    my_id = 'tv-' + str(j)\n",
    "    j+=1\n",
    "    #interrogazione api tmdb\n",
    "    query = tmdb.TV(id_)\n",
    "    try:\n",
    "        current_row = pd.DataFrame([query.info()])\n",
    "    except:\n",
    "        #se va in errore stampo l'id e passo all'iterazione successiva\n",
    "        print('Series: ' + str(id_))\n",
    "        continue\n",
    "    current_row['series_id'] = my_id\n",
    "    #concateno alla lista di dataframe\n",
    "    tvs = tvs + [current_row]\n",
    "    \n",
    "    credits = query.credits()\n",
    "    #controllo se c'e la lista di persone del cast, se c'e concateno alla lista di dataframe\n",
    "    cast = credits['cast']\n",
    "    if len(cast) > 0:\n",
    "        cast = pd.DataFrame(cast)\n",
    "        cast['tmdb_series_id'] = id_\n",
    "        cast['series_id'] = my_id\n",
    "        cast_tvs = cast_tvs + [cast]\n",
    "\n",
    "    #controllo se c'e la lista di persone della crew, se c'e concateno alla lista di dataframe\n",
    "    crew = credits['crew']\n",
    "    if len(crew) > 0:\n",
    "        crew = pd.DataFrame(crew)\n",
    "        crew['tmdb_series_id'] = id_\n",
    "        crew['series_id'] = my_id\n",
    "        crew_tvs = crew_tvs + [crew]\n",
    "    \n",
    "    #faccio passare tutte le stagioni presenti nel campo seasons\n",
    "    seasons = current_row['seasons'].iloc[0]\n",
    "    for s in seasons:\n",
    "        try:\n",
    "            #query tmdb per id serie e numero stagione\n",
    "            current_df = pd.DataFrame([tmdb.TV_Seasons(id_, s['season_number']).info()])\n",
    "            current_df['series_id'] = my_id\n",
    "            current_df['tmdb_series_id'] = id_\n",
    "            seasons_tvs = seasons_tvs + [current_df]\n",
    "        except:\n",
    "            #se va in errore stampo l'id e il numero stagione\n",
    "            print('Series: ' + str(id_) + '    Season: ' + str(s))\n",
    "\n",
    "#concateno i dataframe e scrivo i json\n",
    "pd.concat(tvs).reset_index().to_json(path_data + 'tmdb/json/tmdb_tvs.json')\n",
    "pd.concat(cast_tvs).reset_index().to_json(path_data + 'tmdb/json/tmdb_tvs_cast.json')\n",
    "pd.concat(crew_tvs).reset_index().to_json(path_data + 'tmdb/json/tmdb_tvs_crew.json')\n",
    "pd.concat(seasons_tvs).reset_index().to_json(path_data + 'tmdb/json/tmdb_tv_seasons.json')"
   ]
  },
  {
   "cell_type": "markdown",
   "metadata": {},
   "source": [
    "### People"
   ]
  },
  {
   "cell_type": "code",
   "execution_count": 37,
   "metadata": {},
   "outputs": [],
   "source": [
    "people_ids = list(pd.read_json(path_data + 'tmdb/daily_file/person_ids_daily.json',\n",
    "                                 lines = True, encoding = 'UTF-8')['id'])"
   ]
  },
  {
   "cell_type": "code",
   "execution_count": 42,
   "metadata": {},
   "outputs": [
    {
     "data": {
      "text/plain": [
       "1502610"
      ]
     },
     "execution_count": 42,
     "metadata": {},
     "output_type": "execute_result"
    }
   ],
   "source": [
    "len(people_ids)"
   ]
  },
  {
   "cell_type": "code",
   "execution_count": 39,
   "metadata": {},
   "outputs": [],
   "source": [
    "#inizializzazione liste di dataframe\n",
    "people = []\n",
    "failed = []\n",
    "j = 1\n",
    "for id_ in people_ids:\n",
    "    try:\n",
    "        #query tmdb\n",
    "        current_row = pd.DataFrame([tmdb.People(id_).info()])\n",
    "        #creazione id\n",
    "        current_row['person_id'] = 'p-' + str(j)\n",
    "        j += 1\n",
    "        #concateno alla lista di dataframe\n",
    "        people = people + [current_row]\n",
    "    except:\n",
    "        #se va in errore stampo l'id\n",
    "        print(id_)\n",
    "#concateno i dataframe e scrivo il file .json\n",
    "pd.concat(people).reset_index().to_json(path_data + 'tmdb/json/tmdb_people.json')"
   ]
  }
 ],
 "metadata": {
  "kernelspec": {
   "display_name": "Python 3",
   "language": "python",
   "name": "python3"
  },
  "language_info": {
   "codemirror_mode": {
    "name": "ipython",
    "version": 3
   },
   "file_extension": ".py",
   "mimetype": "text/x-python",
   "name": "python",
   "nbconvert_exporter": "python",
   "pygments_lexer": "ipython3",
   "version": "3.7.6"
  }
 },
 "nbformat": 4,
 "nbformat_minor": 2
}
